{
  "nbformat": 4,
  "nbformat_minor": 0,
  "metadata": {
    "colab": {
      "provenance": []
    },
    "kernelspec": {
      "name": "python3",
      "display_name": "Python 3"
    },
    "language_info": {
      "name": "python"
    }
  },
  "cells": [
    {
      "cell_type": "code",
      "source": [
        "# ============================================================\n",
        "# 1️⃣ IMPORTS & LOAD DATA\n",
        "# ============================================================\n",
        "import pandas as pd\n",
        "import pickle\n",
        "from sklearn.feature_extraction.text import TfidfVectorizer\n",
        "from sklearn.model_selection import train_test_split, GridSearchCV\n",
        "from sklearn.linear_model import LogisticRegression\n",
        "from sklearn.svm import SVC\n",
        "from sklearn.metrics import accuracy_score, classification_report\n",
        "from sklearn.utils.class_weight import compute_class_weight\n",
        "\n",
        "# Load dataset\n",
        "df = pd.read_csv(\"/content/fashion_dataset_200.csv\")\n",
        "\n",
        "# Combine features into text\n",
        "df['combined_text'] = (\n",
        "    df['Skin Tone'] + \" \" +\n",
        "    df['Weather Condition'] + \" \" +\n",
        "    df['Work Level'] + \" \" +\n",
        "    df['Season'] + \" \" +\n",
        "    df['Recommended Outfit']\n",
        ")\n",
        "\n",
        "# Target\n",
        "y = df['Recommended Outfit']  # Try 'Avoid Fabrics' if you prefer that task\n",
        "X_text = df['combined_text']"
      ],
      "metadata": {
        "id": "TfepUL6Pf8Gk"
      },
      "execution_count": null,
      "outputs": []
    },
    {
      "cell_type": "code",
      "source": [
        "# ============================================================\n",
        "# 2️⃣ TF-IDF VECTORIZATION (TUNED)\n",
        "# ============================================================\n",
        "# Use a wider range of n-grams and limit features to avoid overfitting\n",
        "vectorizer = TfidfVectorizer(\n",
        "    stop_words='english',\n",
        "    ngram_range=(1,3),     # capture more context\n",
        "    max_features=3000,     # reduce noise\n",
        "    sublinear_tf=True      # smooth TF values\n",
        ")\n",
        "X = vectorizer.fit_transform(X_text)\n",
        "\n",
        "print(\"TF-IDF matrix:\", X.shape)\n"
      ],
      "metadata": {
        "colab": {
          "base_uri": "https://localhost:8080/"
        },
        "id": "fEppfO6cgOed",
        "outputId": "dfca9fcf-d439-4070-c089-20248a49737a"
      },
      "execution_count": null,
      "outputs": [
        {
          "output_type": "stream",
          "name": "stdout",
          "text": [
            "TF-IDF matrix: (200, 603)\n"
          ]
        }
      ]
    },
    {
      "cell_type": "code",
      "metadata": {
        "colab": {
          "base_uri": "https://localhost:8080/"
        },
        "id": "49adbc11",
        "outputId": "1c22565b-76c9-460c-f4f8-9b90df7d706f"
      },
      "source": [
        "# ============================================================\n",
        "# 3️⃣ TRAIN TEST SPLIT\n",
        "# ============================================================\n",
        "from sklearn.model_selection import train_test_split\n",
        "X_train, X_test, y_train, y_test = train_test_split(\n",
        "    X, y, test_size=0.2, random_state=42\n",
        ")\n",
        "print(\"Train:\", X_train.shape, \" Test:\", X_test.shape)"
      ],
      "execution_count": null,
      "outputs": [
        {
          "output_type": "stream",
          "name": "stdout",
          "text": [
            "Train: (160, 603)  Test: (40, 603)\n"
          ]
        }
      ]
    },
    {
      "cell_type": "code",
      "source": [
        "# ============================================================\n",
        "# 4️⃣ LOGISTIC REGRESSION (TUNED VIA GRIDSEARCH)\n",
        "# ============================================================\n",
        "param_grid = {\n",
        "    'C': [0.1, 1, 5, 10, 20],\n",
        "    'solver': ['liblinear', 'lbfgs'],\n",
        "    'penalty': ['l2']\n",
        "}\n",
        "\n",
        "grid = GridSearchCV(\n",
        "    LogisticRegression(max_iter=2000, multi_class='auto', class_weight='balanced'),\n",
        "    param_grid,\n",
        "    cv=5,\n",
        "    scoring='accuracy',\n",
        "    verbose=1,\n",
        "    n_jobs=-1\n",
        ")\n",
        "\n",
        "grid.fit(X_train, y_train)\n",
        "\n",
        "print(\"✅ Best Params:\", grid.best_params_)\n",
        "#best_model = grid.best_estimator_\n"
      ],
      "metadata": {
        "colab": {
          "base_uri": "https://localhost:8080/"
        },
        "id": "PN0oFdOmgRXH",
        "outputId": "56a87572-379f-41b1-caf7-be343bcebcff"
      },
      "execution_count": null,
      "outputs": [
        {
          "output_type": "stream",
          "name": "stdout",
          "text": [
            "Fitting 5 folds for each of 10 candidates, totalling 50 fits\n"
          ]
        },
        {
          "output_type": "stream",
          "name": "stderr",
          "text": [
            "/usr/local/lib/python3.12/dist-packages/sklearn/model_selection/_split.py:805: UserWarning: The least populated class in y has only 1 members, which is less than n_splits=5.\n",
            "  warnings.warn(\n"
          ]
        },
        {
          "output_type": "stream",
          "name": "stdout",
          "text": [
            "✅ Best Params: {'C': 0.1, 'penalty': 'l2', 'solver': 'lbfgs'}\n"
          ]
        },
        {
          "output_type": "stream",
          "name": "stderr",
          "text": [
            "/usr/local/lib/python3.12/dist-packages/sklearn/linear_model/_logistic.py:1247: FutureWarning: 'multi_class' was deprecated in version 1.5 and will be removed in 1.7. From then on, it will always use 'multinomial'. Leave it to its default value to avoid this warning.\n",
            "  warnings.warn(\n"
          ]
        }
      ]
    },
    {
      "cell_type": "code",
      "source": [
        "# ============================================================\n",
        "# 5️⃣ EVALUATION\n",
        "# ============================================================\n",
        "y_pred = best_model.predict(X_test)\n",
        "acc = accuracy_score(y_test, y_pred)\n",
        "print(f\"🎯 Accuracy: {acc*100:.2f}%\")\n",
        "print(\"\\nClassification Report:\\n\", classification_report(y_test, y_pred))\n"
      ],
      "metadata": {
        "colab": {
          "base_uri": "https://localhost:8080/"
        },
        "id": "583M3y0Hga1c",
        "outputId": "b3751c93-2636-4d53-fe9f-c45d6d91184f"
      },
      "execution_count": null,
      "outputs": [
        {
          "output_type": "stream",
          "name": "stdout",
          "text": [
            "🎯 Accuracy: 95.00%\n",
            "\n",
            "Classification Report:\n",
            "                           precision    recall  f1-score   support\n",
            "\n",
            "            Active boots       1.00      1.00      1.00         1\n",
            "             Active coat       1.00      1.00      1.00         1\n",
            "     Active light blouse       1.00      1.00      1.00         1\n",
            "  Active long-sleeve top       1.00      1.00      1.00         1\n",
            "     Active pastel shirt       1.00      1.00      1.00         1\n",
            "      Active scarf combo       1.00      1.00      1.00         1\n",
            "   Active thermal jacket       1.00      1.00      1.00         1\n",
            "      Active trench coat       1.00      1.00      1.00         1\n",
            "            Casual boots       1.00      1.00      1.00         2\n",
            "             Casual coat       0.00      0.00      0.00         1\n",
            "           Casual hoodie       0.50      1.00      0.67         1\n",
            "  Casual long-sleeve top       1.00      1.00      1.00         2\n",
            "           Casual shorts       1.00      1.00      1.00         1\n",
            "Casual waterproof jacket       1.00      1.00      1.00         1\n",
            "     Casual wool sweater       1.00      1.00      1.00         1\n",
            "         Formal cardigan       1.00      1.00      1.00         2\n",
            "   Formal cotton t-shirt       0.00      0.00      0.00         0\n",
            "           Formal hoodie       1.00      1.00      1.00         1\n",
            "     Formal light blouse       0.00      0.00      0.00         1\n",
            "     Formal light jacket       1.00      1.00      1.00         1\n",
            "      Formal linen shirt       1.00      1.00      1.00         1\n",
            "      Formal scarf combo       1.00      1.00      1.00         2\n",
            "           Formal shorts       1.00      1.00      1.00         2\n",
            "Formal waterproof jacket       1.00      1.00      1.00         1\n",
            "           Relaxed boots       1.00      1.00      1.00         1\n",
            "            Relaxed coat       1.00      1.00      1.00         3\n",
            "      Relaxed dark jeans       1.00      1.00      1.00         1\n",
            "           Relaxed jeans       1.00      1.00      1.00         3\n",
            "    Relaxed light blouse       1.00      1.00      1.00         1\n",
            "     Relaxed trench coat       1.00      1.00      1.00         3\n",
            "\n",
            "                accuracy                           0.95        40\n",
            "               macro avg       0.88      0.90      0.89        40\n",
            "            weighted avg       0.94      0.95      0.94        40\n",
            "\n"
          ]
        }
      ]
    },
    {
      "cell_type": "code",
      "source": [
        "# ============================================================\n",
        "# 6️⃣ SVM MODEL WITH CLASS BALANCING — CLEAN VERSION\n",
        "# ============================================================\n",
        "from sklearn.svm import SVC\n",
        "from sklearn.metrics import classification_report, confusion_matrix, accuracy_score\n",
        "import seaborn as sns\n",
        "import matplotlib.pyplot as plt\n",
        "import warnings\n",
        "from sklearn.exceptions import UndefinedMetricWarning\n",
        "\n",
        "# Ignore sklearn metric warnings (undefined precision/recall)\n",
        "warnings.filterwarnings(\"ignore\", category=UndefinedMetricWarning)\n",
        "\n",
        "# Train SVM model\n",
        "svm_model = SVC(\n",
        "    kernel='rbf',          # RBF kernel for non-linear decision boundaries\n",
        "    C=10,                  # Higher C = less regularization\n",
        "    gamma='scale',         # Auto gamma scaling\n",
        "    class_weight='balanced',  # Handle imbalanced classes\n",
        "    probability=True,      # Allow probability outputs\n",
        "    random_state=42\n",
        ")\n",
        "svm_model.fit(X_train, y_train)\n",
        "\n",
        "# Predictions\n",
        "y_pred_svm = svm_model.predict(X_test)\n",
        "\n",
        "# Evaluation metrics\n",
        "acc_svm = accuracy_score(y_test, y_pred_svm)\n",
        "print(f\"🎯 SVM Accuracy: {acc_svm*100:.2f}%\\n\")\n",
        "\n",
        "print(\"📊 Classification Report (No Warnings):\\n\")\n",
        "print(classification_report(y_test, y_pred_svm, zero_division=0))\n"
      ],
      "metadata": {
        "colab": {
          "base_uri": "https://localhost:8080/"
        },
        "id": "sovtpYtdgf0t",
        "outputId": "f75d1b1d-5054-4cca-b02a-95ea8e0c73b7"
      },
      "execution_count": null,
      "outputs": [
        {
          "output_type": "stream",
          "name": "stdout",
          "text": [
            "🎯 SVM Accuracy: 90.00%\n",
            "\n",
            "📊 Classification Report (No Warnings):\n",
            "\n",
            "                          precision    recall  f1-score   support\n",
            "\n",
            "            Active boots       1.00      1.00      1.00         1\n",
            "             Active coat       1.00      1.00      1.00         1\n",
            "     Active light blouse       1.00      1.00      1.00         1\n",
            "  Active long-sleeve top       1.00      1.00      1.00         1\n",
            "     Active pastel shirt       1.00      1.00      1.00         1\n",
            "      Active scarf combo       1.00      1.00      1.00         1\n",
            "   Active thermal jacket       1.00      1.00      1.00         1\n",
            "      Active trench coat       1.00      1.00      1.00         1\n",
            "            Casual boots       1.00      1.00      1.00         2\n",
            "         Casual cardigan       0.00      0.00      0.00         0\n",
            "             Casual coat       0.00      0.00      0.00         1\n",
            "           Casual hoodie       1.00      1.00      1.00         1\n",
            "     Casual light blouse       0.00      0.00      0.00         0\n",
            "  Casual long-sleeve top       1.00      1.00      1.00         2\n",
            "           Casual shorts       0.00      0.00      0.00         1\n",
            "Casual waterproof jacket       1.00      1.00      1.00         1\n",
            "     Casual wool sweater       1.00      1.00      1.00         1\n",
            "         Formal cardigan       1.00      1.00      1.00         2\n",
            "           Formal hoodie       1.00      1.00      1.00         1\n",
            "     Formal light blouse       0.00      0.00      0.00         1\n",
            "     Formal light jacket       1.00      1.00      1.00         1\n",
            "      Formal linen shirt       1.00      1.00      1.00         1\n",
            "      Formal scarf combo       1.00      1.00      1.00         2\n",
            "           Formal shorts       1.00      1.00      1.00         2\n",
            "Formal waterproof jacket       1.00      1.00      1.00         1\n",
            "           Relaxed boots       0.00      0.00      0.00         1\n",
            "            Relaxed coat       1.00      1.00      1.00         3\n",
            "      Relaxed dark jeans       1.00      1.00      1.00         1\n",
            "           Relaxed jeans       1.00      1.00      1.00         3\n",
            "    Relaxed light blouse       0.50      1.00      0.67         1\n",
            "        Relaxed raincoat       0.00      0.00      0.00         0\n",
            "     Relaxed trench coat       1.00      1.00      1.00         3\n",
            "\n",
            "                accuracy                           0.90        40\n",
            "               macro avg       0.77      0.78      0.77        40\n",
            "            weighted avg       0.89      0.90      0.89        40\n",
            "\n"
          ]
        }
      ]
    },
    {
      "cell_type": "code",
      "source": [
        "# ============================================================\n",
        "# 7️⃣ SAVE BEST MODEL & VECTORIZER\n",
        "# ============================================================\n",
        "with open(\"fashion_model_best.pkl\", \"wb\") as f:\n",
        "    pickle.dump(best_model, f)\n",
        "\n",
        "with open(\"fashion_vectorizer_best.pkl\", \"wb\") as f:\n",
        "    pickle.dump(vectorizer, f)\n",
        "\n",
        "print(\"\\n✅ Model and vectorizer saved successfully!\")\n"
      ],
      "metadata": {
        "colab": {
          "base_uri": "https://localhost:8080/"
        },
        "id": "_PFmJm_nhEq7",
        "outputId": "c715ec89-ad82-4299-d704-9e7651b23d83"
      },
      "execution_count": null,
      "outputs": [
        {
          "output_type": "stream",
          "name": "stdout",
          "text": [
            "\n",
            "✅ Model and vectorizer saved successfully!\n"
          ]
        }
      ]
    },
    {
      "cell_type": "code",
      "source": [
        "# ============================================================\n",
        "# 8️⃣ CUSTOM PREDICTION FUNCTION\n",
        "# ============================================================\n",
        "def predict_fabric(skin_tone, weather, work_level, season, outfit_desc):\n",
        "    text = f\"{skin_tone} {weather} {work_level} {season} {outfit_desc}\"\n",
        "    vector = vectorizer.transform([text])\n",
        "    pred = best_model.predict(vector)[0]\n",
        "    print(f\"\\n🧾 Input: {text}\")\n",
        "    print(f\"💡 Predicted Fabric: {pred}\")\n",
        "\n",
        "# Test Examples\n",
        "predict_fabric(\"Fair\", \"Sunny\", \"Office\", \"Summer\", \"white cotton shirt\")\n",
        "predict_fabric(\"Deep\", \"Cold\", \"Outdoor\", \"Winter\", \"wool coat and gloves\")\n"
      ],
      "metadata": {
        "colab": {
          "base_uri": "https://localhost:8080/"
        },
        "id": "iwZZL82nhHKh",
        "outputId": "05b14131-693e-4f06-80e1-9db837b7f116"
      },
      "execution_count": null,
      "outputs": [
        {
          "output_type": "stream",
          "name": "stdout",
          "text": [
            "\n",
            "🧾 Input: Fair Sunny Office Summer white cotton shirt\n",
            "💡 Predicted Fabric: Formal cotton t-shirt\n",
            "\n",
            "🧾 Input: Deep Cold Outdoor Winter wool coat and gloves\n",
            "💡 Predicted Fabric: Casual wool sweater\n"
          ]
        }
      ]
    },
    {
      "cell_type": "code",
      "source": [],
      "metadata": {
        "id": "6bZOeUgPhJoG"
      },
      "execution_count": null,
      "outputs": []
    }
  ]
}